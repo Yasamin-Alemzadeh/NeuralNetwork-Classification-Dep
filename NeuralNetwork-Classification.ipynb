{
 "cells": [
  {
   "cell_type": "code",
   "execution_count": null,
   "metadata": {},
   "outputs": [],
   "source": [
    "import numpy as np\n",
    "import pandas as pd\n",
    "import seaborn as sns\n",
    "import matplotlib.pyplot as plt\n",
    "import tensorflow as tf\n",
    "from keras.models import Sequential\n",
    "from keras.layers import Dense\n",
    "import math\n",
    "\n",
    "df = pd.read_csv('dep_clean.csv')\n",
    "\n",
    "plt.subplots(figsize=(9, 9))\n",
    "sns.heatmap(df.corr(), annot=True)\n",
    "\n",
    "\n",
    "x = df.drop(\"dep\", axis=1)\n",
    "y = df.dep\n",
    "\n",
    "from sklearn.model_selection import train_test_split\n",
    "X_train, X_test, y_train, y_test = train_test_split(x, y, test_size=0.2)\n",
    "\n",
    "\n",
    "model = Sequential()\n",
    "model.add(Dense(64, input_dim=11, activation='relu'))\n",
    "model.add(Dense(32, activation='relu'))\n",
    "model.add(Dense(3, activation='sigmoid')) \n",
    "model.compile(loss=tf.keras.losses.SparseCategoricalCrossentropy(from_logits=True),\n",
    "              optimizer='adam', metrics=['accuracy'])\n",
    "\n",
    "\n",
    "model.fit(X_train, y_train, validation_data=(\n",
    "    X_test, y_test), epochs=200, batch_size=10)\n",
    "\n",
    "scores = model.evaluate(X_train, y_train)\n",
    "print(\"Training Accuracy: %.2f%%\\n\" % (scores[1]*100))\n",
    "scores = model.evaluate(X_test, y_test)\n",
    "print(\"Testing Accuracy: %.2f%%\\n\" % (scores[1]*100))\n",
    "\n",
    "man = np.array([[1,3,3,33,0,0,2,1,2,2,2]])\n",
    "\n",
    "out=model.predict(man)\n",
    "h=np.array(out[0])\n",
    "bars = ('low', 'medium', 'high') \n",
    "  \n",
    "plt.bar(bars, h)\n",
    " \n",
    "plt.show()"
   ]
  }
 ],
 "metadata": {
  "language_info": {
   "name": "python"
  },
  "orig_nbformat": 4
 },
 "nbformat": 4,
 "nbformat_minor": 2
}
